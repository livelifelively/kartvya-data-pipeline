{
 "cells": [
  {
   "cell_type": "code",
   "execution_count": 1,
   "metadata": {},
   "outputs": [],
   "source": [
    "import geopandas as gpd\n",
    "from shapely.geometry import MultiPolygon"
   ]
  },
  {
   "cell_type": "code",
   "execution_count": 2,
   "metadata": {},
   "outputs": [],
   "source": [
    "# Load your GeoJSON file\n",
    "gdf = gpd.read_file('jk.vc.geojson.json')"
   ]
  },
  {
   "cell_type": "code",
   "execution_count": 4,
   "metadata": {},
   "outputs": [
    {
     "name": "stdout",
     "output_type": "stream",
     "text": [
      "   AC_NO                 AC_NAME            ST_NAME ST_CODE  \\\n",
      "0      0                      NA  Jammu and Kashmir     U08   \n",
      "1      0                      NA  Jammu and Kashmir     U08   \n",
      "2      0                      NA  Jammu and Kashmir     U08   \n",
      "3      0                      NA  Jammu and Kashmir     U08   \n",
      "4     45  Srigufwara - Bijbehara  Jammu and Kashmir     U08   \n",
      "\n",
      "                                            geometry  \n",
      "0  POLYGON ((74.17505 33.41303, 74.1746 33.41341,...  \n",
      "1  POLYGON ((74.01999 33.60414, 74.0129 33.61859,...  \n",
      "2  POLYGON ((74.44374 32.79883, 74.4433 32.79924,...  \n",
      "3  POLYGON ((74.14682 35.09742, 74.14659 35.09745...  \n",
      "4  POLYGON ((75.08327 33.75877, 75.08451 33.7595,...  \n"
     ]
    }
   ],
   "source": [
    "# Load your GeoJSON file\n",
    "print(gdf.head())"
   ]
  },
  {
   "cell_type": "code",
   "execution_count": 6,
   "metadata": {},
   "outputs": [
    {
     "name": "stdout",
     "output_type": "stream",
     "text": [
      "Found 8 invalid geometries.\n"
     ]
    }
   ],
   "source": [
    "# Check for invalid geometries\n",
    "invalid_geometries = gdf[~gdf.is_valid]\n",
    "print(f\"Found {len(invalid_geometries)} invalid geometries.\")"
   ]
  },
  {
   "cell_type": "code",
   "execution_count": 7,
   "metadata": {},
   "outputs": [],
   "source": [
    "# Attempt to fix invalid geometries using buffer(0)\n",
    "gdf['geometry'] = gdf.geometry.buffer(0)"
   ]
  },
  {
   "cell_type": "code",
   "execution_count": 8,
   "metadata": {},
   "outputs": [
    {
     "name": "stdout",
     "output_type": "stream",
     "text": [
      "After fixing, found 0 invalid geometries.\n"
     ]
    }
   ],
   "source": [
    "# Verify if geometries are now valid\n",
    "invalid_geometries = gdf[~gdf.is_valid]\n",
    "print(f\"After fixing, found {len(invalid_geometries)} invalid geometries.\")\n"
   ]
  },
  {
   "cell_type": "code",
   "execution_count": 11,
   "metadata": {},
   "outputs": [
    {
     "name": "stderr",
     "output_type": "stream",
     "text": [
      "/var/folders/_t/qdwqtlx92895wppq6z1q5gz80000gn/T/ipykernel_12092/1822286919.py:2: DeprecationWarning: The 'unary_union' attribute is deprecated, use the 'union_all()' method instead.\n",
      "  state_boundary = gdf.geometry.unary_union\n"
     ]
    }
   ],
   "source": [
    "# Merge all the polygons into a single polygon using unary_union replacement\n",
    "state_boundary = gdf.geometry.unary_union"
   ]
  },
  {
   "cell_type": "code",
   "execution_count": 12,
   "metadata": {},
   "outputs": [
    {
     "name": "stdout",
     "output_type": "stream",
     "text": [
      "The state consists of multiple discontiguous parts.\n"
     ]
    }
   ],
   "source": [
    "# Check and handle the type of the result\n",
    "if isinstance(state_boundary, MultiPolygon):\n",
    "    print(\"The state consists of multiple discontiguous parts.\")\n",
    "else:\n",
    "    print(\"Merged State Boundary:\", state_boundary)"
   ]
  },
  {
   "cell_type": "code",
   "execution_count": 13,
   "metadata": {},
   "outputs": [],
   "source": [
    "# Optionally, create a new GeoDataFrame\n",
    "state_gdf = gpd.GeoDataFrame(geometry=[state_boundary], crs=gdf.crs)"
   ]
  },
  {
   "cell_type": "code",
   "execution_count": 15,
   "metadata": {},
   "outputs": [
    {
     "name": "stderr",
     "output_type": "stream",
     "text": [
      "Matplotlib is building the font cache; this may take a moment.\n"
     ]
    },
    {
     "data": {
      "text/plain": [
       "<Axes: >"
      ]
     },
     "execution_count": 15,
     "metadata": {},
     "output_type": "execute_result"
    },
    {
     "data": {
      "image/png": "[encoded data removed]",
      "text/plain": [
       "<Figure size 640x480 with 1 Axes>"
      ]
     },
     "metadata": {},
     "output_type": "display_data"
    }
   ],
   "source": [
    "# Plotting the merged boundary\n",
    "state_gdf.plot()"
   ]
  },
  {
   "cell_type": "code",
   "execution_count": 16,
   "metadata": {},
   "outputs": [],
   "source": [
    "# Optionally, save the new GeoJSON\n",
    "state_gdf.to_file(\"jnk_state_boundary.geo.json\", driver='GeoJSON')"
   ]
  }
 ],
 "metadata": {
  "kernelspec": {
   "display_name": "notebooks.venv",
   "language": "python",
   "name": "python3"
  },
  "language_info": {
   "codemirror_mode": {
    "name": "ipython",
    "version": 3
   },
   "file_extension": ".py",
   "mimetype": "text/x-python",
   "name": "python",
   "nbconvert_exporter": "python",
   "pygments_lexer": "ipython3",
   "version": "3.13.0"
  }
 },
 "nbformat": 4,
 "nbformat_minor": 2
}
