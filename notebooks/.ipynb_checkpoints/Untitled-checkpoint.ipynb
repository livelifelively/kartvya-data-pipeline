{
 "cells": [
  {
   "cell_type": "code",
   "execution_count": 20,
   "id": "693a6cd2-dbb5-4175-aa47-e7a550515532",
   "metadata": {},
   "outputs": [],
   "source": [
    "# Import necessary library\n",
    "import folium"
   ]
  },
  {
   "cell_type": "code",
   "execution_count": 21,
   "id": "2541143c-dd30-43fe-b78a-63619fad87e9",
   "metadata": {},
   "outputs": [],
   "source": [
    "# Function to create a map and render GeoJSON\n",
    "def render_geojson(geojson_path):\n",
    "    # Initialize the map centered around a location\n",
    "    # Here, we use a generic latitude and longitude\n",
    "    m = folium.Map(location=[45.5236, -122.6750], zoom_start=5)\n",
    "    \n",
    "    # Add the GeoJSON to the map\n",
    "    folium.GeoJson(\n",
    "        geojson_path,\n",
    "        name='geojson'\n",
    "    ).add_to(m)\n",
    "    \n",
    "    # Display the map\n",
    "    return m"
   ]
  },
  {
   "cell_type": "code",
   "execution_count": 22,
   "id": "c84c7494-7d13-4c28-831d-9505d5cdcb46",
   "metadata": {},
   "outputs": [],
   "source": [
    "# Path to your GeoJSON file\n",
    "geojson_file = 'jk.vc.geojson.json'"
   ]
  },
  {
   "cell_type": "code",
   "execution_count": 23,
   "id": "13f974f7-412d-44a8-905f-135bccb237de",
   "metadata": {},
   "outputs": [
    {
     "name": "stdout",
     "output_type": "stream",
     "text": [
      "File does not exist. Check the path.\n"
     ]
    }
   ],
   "source": [
    "# Check if the file exists\n",
    "import os\n",
    "\n",
    "if os.path.exists(geojson_file):\n",
    "    print(\"File exists.\")\n",
    "else:\n",
    "    print(\"File does not exist. Check the path.\")"
   ]
  },
  {
   "cell_type": "code",
   "execution_count": 11,
   "id": "500e237c",
   "metadata": {},
   "outputs": [
    {
     "ename": "FileNotFoundError",
     "evalue": "[Errno 2] No such file or directory: '../api/src/admin-regions/states/jammu-kashmir/jk.vc.geojson.json'",
     "output_type": "error",
     "traceback": [
      "\u001b[0;31m---------------------------------------------------------------------------\u001b[0m",
      "\u001b[0;31mFileNotFoundError\u001b[0m                         Traceback (most recent call last)",
      "Cell \u001b[0;32mIn[11], line 2\u001b[0m\n\u001b[1;32m      1\u001b[0m \u001b[38;5;66;03m# Call the function with the GeoJSON file path\u001b[39;00m\n\u001b[0;32m----> 2\u001b[0m \u001b[43mrender_geojson\u001b[49m\u001b[43m(\u001b[49m\u001b[43mgeojson_file\u001b[49m\u001b[43m)\u001b[49m\n",
      "Cell \u001b[0;32mIn[6], line 8\u001b[0m, in \u001b[0;36mrender_geojson\u001b[0;34m(geojson_path)\u001b[0m\n\u001b[1;32m      5\u001b[0m m \u001b[38;5;241m=\u001b[39m folium\u001b[38;5;241m.\u001b[39mMap(location\u001b[38;5;241m=\u001b[39m[\u001b[38;5;241m45.5236\u001b[39m, \u001b[38;5;241m-\u001b[39m\u001b[38;5;241m122.6750\u001b[39m], zoom_start\u001b[38;5;241m=\u001b[39m\u001b[38;5;241m5\u001b[39m)\n\u001b[1;32m      7\u001b[0m \u001b[38;5;66;03m# Add the GeoJSON to the map\u001b[39;00m\n\u001b[0;32m----> 8\u001b[0m \u001b[43mfolium\u001b[49m\u001b[38;5;241;43m.\u001b[39;49m\u001b[43mGeoJson\u001b[49m\u001b[43m(\u001b[49m\n\u001b[1;32m      9\u001b[0m \u001b[43m    \u001b[49m\u001b[43mgeojson_path\u001b[49m\u001b[43m,\u001b[49m\n\u001b[1;32m     10\u001b[0m \u001b[43m    \u001b[49m\u001b[43mname\u001b[49m\u001b[38;5;241;43m=\u001b[39;49m\u001b[38;5;124;43m'\u001b[39;49m\u001b[38;5;124;43mgeojson\u001b[39;49m\u001b[38;5;124;43m'\u001b[39;49m\n\u001b[1;32m     11\u001b[0m \u001b[43m\u001b[49m\u001b[43m)\u001b[49m\u001b[38;5;241m.\u001b[39madd_to(m)\n\u001b[1;32m     13\u001b[0m \u001b[38;5;66;03m# Display the map\u001b[39;00m\n\u001b[1;32m     14\u001b[0m \u001b[38;5;28;01mreturn\u001b[39;00m m\n",
      "File \u001b[0;32m~/dev/kartvya/kartvya-data-pipeline/notebooks/notebooks.venv/lib/python3.13/site-packages/folium/features.py:697\u001b[0m, in \u001b[0;36mGeoJson.__init__\u001b[0;34m(self, data, style_function, highlight_function, popup_keep_highlighted, name, overlay, control, show, smooth_factor, tooltip, embed, popup, zoom_on_click, marker, **kwargs)\u001b[0m\n\u001b[1;32m    694\u001b[0m \u001b[38;5;28mself\u001b[39m\u001b[38;5;241m.\u001b[39mmarker \u001b[38;5;241m=\u001b[39m marker\n\u001b[1;32m    695\u001b[0m \u001b[38;5;28mself\u001b[39m\u001b[38;5;241m.\u001b[39moptions \u001b[38;5;241m=\u001b[39m parse_options(\u001b[38;5;241m*\u001b[39m\u001b[38;5;241m*\u001b[39mkwargs)\n\u001b[0;32m--> 697\u001b[0m \u001b[38;5;28mself\u001b[39m\u001b[38;5;241m.\u001b[39mdata \u001b[38;5;241m=\u001b[39m \u001b[38;5;28;43mself\u001b[39;49m\u001b[38;5;241;43m.\u001b[39;49m\u001b[43mprocess_data\u001b[49m\u001b[43m(\u001b[49m\u001b[43mdata\u001b[49m\u001b[43m)\u001b[49m\n\u001b[1;32m    699\u001b[0m \u001b[38;5;28;01mif\u001b[39;00m \u001b[38;5;28mself\u001b[39m\u001b[38;5;241m.\u001b[39mstyle \u001b[38;5;129;01mor\u001b[39;00m \u001b[38;5;28mself\u001b[39m\u001b[38;5;241m.\u001b[39mhighlight:\n\u001b[1;32m    700\u001b[0m     \u001b[38;5;28mself\u001b[39m\u001b[38;5;241m.\u001b[39mconvert_to_feature_collection()\n",
      "File \u001b[0;32m~/dev/kartvya/kartvya-data-pipeline/notebooks/notebooks.venv/lib/python3.13/site-packages/folium/features.py:734\u001b[0m, in \u001b[0;36mGeoJson.process_data\u001b[0;34m(self, data)\u001b[0m\n\u001b[1;32m    732\u001b[0m         \u001b[38;5;28;01mif\u001b[39;00m \u001b[38;5;129;01mnot\u001b[39;00m \u001b[38;5;28mself\u001b[39m\u001b[38;5;241m.\u001b[39membed:\n\u001b[1;32m    733\u001b[0m             \u001b[38;5;28mself\u001b[39m\u001b[38;5;241m.\u001b[39membed_link \u001b[38;5;241m=\u001b[39m data\n\u001b[0;32m--> 734\u001b[0m         \u001b[38;5;28;01mwith\u001b[39;00m \u001b[38;5;28;43mopen\u001b[39;49m\u001b[43m(\u001b[49m\u001b[43mdata\u001b[49m\u001b[43m)\u001b[49m \u001b[38;5;28;01mas\u001b[39;00m f:\n\u001b[1;32m    735\u001b[0m             \u001b[38;5;28;01mreturn\u001b[39;00m json\u001b[38;5;241m.\u001b[39mloads(f\u001b[38;5;241m.\u001b[39mread())\n\u001b[1;32m    736\u001b[0m \u001b[38;5;28;01melif\u001b[39;00m \u001b[38;5;28mhasattr\u001b[39m(data, \u001b[38;5;124m\"\u001b[39m\u001b[38;5;124m__geo_interface__\u001b[39m\u001b[38;5;124m\"\u001b[39m):\n",
      "\u001b[0;31mFileNotFoundError\u001b[0m: [Errno 2] No such file or directory: '../api/src/admin-regions/states/jammu-kashmir/jk.vc.geojson.json'"
     ]
    }
   ],
   "source": [
    "# Call the function with the GeoJSON file path\n",
    "render_geojson(geojson_file)"
   ]
  },
  {
   "cell_type": "code",
   "execution_count": null,
   "id": "74403eeb-1391-40ac-a2f3-dbf1fca5439b",
   "metadata": {},
   "outputs": [],
   "source": []
  }
 ],
 "metadata": {
  "kernelspec": {
   "display_name": "Python 3 (ipykernel)",
   "language": "python",
   "name": "python3"
  },
  "language_info": {
   "codemirror_mode": {
    "name": "ipython",
    "version": 3
   },
   "file_extension": ".py",
   "mimetype": "text/x-python",
   "name": "python",
   "nbconvert_exporter": "python",
   "pygments_lexer": "ipython3",
   "version": "3.13.0"
  }
 },
 "nbformat": 4,
 "nbformat_minor": 5
}
