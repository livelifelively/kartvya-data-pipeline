{
 "cells": [
  {
   "cell_type": "code",
   "execution_count": 1,
   "id": "2b6bd783-24f1-491a-aec5-a60324d53340",
   "metadata": {},
   "outputs": [
    {
     "name": "stdout",
     "output_type": "stream",
     "text": [
      "hello world\n"
     ]
    }
   ],
   "source": [
    "console.log(\"hello world\")"
   ]
  },
  {
   "cell_type": "code",
   "execution_count": 2,
   "id": "2d8aa1b3-4ae6-431c-849d-162e861e59ba",
   "metadata": {},
   "outputs": [
    {
     "name": "stdout",
     "output_type": "stream",
     "text": [
      "hello ashish\n"
     ]
    }
   ],
   "source": [
    "console.log(\"hello ashish\")"
   ]
  },
  {
   "cell_type": "code",
   "execution_count": null,
   "id": "03804b14-f842-45bb-929f-a73cbbc9e437",
   "metadata": {},
   "outputs": [],
   "source": []
  }
 ],
 "metadata": {
  "kernelspec": {
   "display_name": "Deno",
   "language": "typescript",
   "name": "deno"
  },
  "language_info": {
   "codemirror_mode": "typescript",
   "file_extension": ".ts",
   "mimetype": "text/x.typescript",
   "name": "typescript",
   "nbconvert_exporter": "script",
   "pygments_lexer": "typescript",
   "version": "5.6.2"
  }
 },
 "nbformat": 4,
 "nbformat_minor": 5
}
